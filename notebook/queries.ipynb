{
 "cells": [
  {
   "attachments": {},
   "cell_type": "markdown",
   "metadata": {},
   "source": [
    "# Queries and visualization with DuckDB\n",
    "I love DuckDB so much."
   ]
  },
  {
   "cell_type": "code",
   "execution_count": 16,
   "metadata": {},
   "outputs": [
    {
     "name": "stdout",
     "output_type": "stream",
     "text": [
      "The sql extension is already loaded. To reload it, use:\n",
      "  %reload_ext sql\n"
     ]
    }
   ],
   "source": [
    "# Me irl: No brainer analyst\n",
    "import pandas as pd \n",
    "import duckdb\n",
    "import seaborn as sns\n",
    "import matplotlib.pyplot as plt\n",
    "\n",
    "# Configuration\n",
    "%config SqlMagic.autopandas = True\n",
    "%config SqlMagic.feedback = False\n",
    "%config SqlMagic.displaycon = False\n",
    "\n",
    "# Setup connection with SQLite database\n",
    "%load_ext sql\n",
    "%sql sqlite:///../sales.db"
   ]
  },
  {
   "attachments": {},
   "cell_type": "markdown",
   "metadata": {},
   "source": [
    "### Testing: `DuckDB` demonstration"
   ]
  },
  {
   "attachments": {},
   "cell_type": "markdown",
   "metadata": {},
   "source": [
    "Sample code for storing query result into variable"
   ]
  },
  {
   "cell_type": "code",
   "execution_count": 4,
   "metadata": {},
   "outputs": [
    {
     "name": "stdout",
     "output_type": "stream",
     "text": [
      "Returning data to local variable result\n"
     ]
    }
   ],
   "source": [
    "%%sql result <<\n",
    "SELECT * FROM accounts;"
   ]
  },
  {
   "cell_type": "code",
   "execution_count": 5,
   "metadata": {},
   "outputs": [
    {
     "data": {
      "text/html": [
       "<div>\n",
       "<style scoped>\n",
       "    .dataframe tbody tr th:only-of-type {\n",
       "        vertical-align: middle;\n",
       "    }\n",
       "\n",
       "    .dataframe tbody tr th {\n",
       "        vertical-align: top;\n",
       "    }\n",
       "\n",
       "    .dataframe thead th {\n",
       "        text-align: right;\n",
       "    }\n",
       "</style>\n",
       "<table border=\"1\" class=\"dataframe\">\n",
       "  <thead>\n",
       "    <tr style=\"text-align: right;\">\n",
       "      <th></th>\n",
       "      <th>index</th>\n",
       "      <th>id</th>\n",
       "      <th>name</th>\n",
       "      <th>website</th>\n",
       "      <th>lat</th>\n",
       "      <th>long</th>\n",
       "      <th>primary_poc</th>\n",
       "      <th>sales_rep_id</th>\n",
       "    </tr>\n",
       "  </thead>\n",
       "  <tbody>\n",
       "    <tr>\n",
       "      <th>0</th>\n",
       "      <td>0</td>\n",
       "      <td>1001</td>\n",
       "      <td>Walmart</td>\n",
       "      <td>www.walmart.com</td>\n",
       "      <td>40.238496</td>\n",
       "      <td>-75.103297</td>\n",
       "      <td>Tamara Tuma</td>\n",
       "      <td>321500</td>\n",
       "    </tr>\n",
       "    <tr>\n",
       "      <th>1</th>\n",
       "      <td>1</td>\n",
       "      <td>1011</td>\n",
       "      <td>Exxon Mobil</td>\n",
       "      <td>www.exxonmobil.com</td>\n",
       "      <td>41.169156</td>\n",
       "      <td>-73.849374</td>\n",
       "      <td>Sung Shields</td>\n",
       "      <td>321510</td>\n",
       "    </tr>\n",
       "    <tr>\n",
       "      <th>2</th>\n",
       "      <td>2</td>\n",
       "      <td>1021</td>\n",
       "      <td>Apple</td>\n",
       "      <td>www.apple.com</td>\n",
       "      <td>42.290495</td>\n",
       "      <td>-76.084009</td>\n",
       "      <td>Jodee Lupo</td>\n",
       "      <td>321520</td>\n",
       "    </tr>\n",
       "    <tr>\n",
       "      <th>3</th>\n",
       "      <td>3</td>\n",
       "      <td>1031</td>\n",
       "      <td>Berkshire Hathaway</td>\n",
       "      <td>www.berkshirehathaway.com</td>\n",
       "      <td>40.949021</td>\n",
       "      <td>-75.763898</td>\n",
       "      <td>Serafina Banda</td>\n",
       "      <td>321530</td>\n",
       "    </tr>\n",
       "    <tr>\n",
       "      <th>4</th>\n",
       "      <td>4</td>\n",
       "      <td>1041</td>\n",
       "      <td>McKesson</td>\n",
       "      <td>www.mckesson.com</td>\n",
       "      <td>42.217093</td>\n",
       "      <td>-75.284998</td>\n",
       "      <td>Angeles Crusoe</td>\n",
       "      <td>321540</td>\n",
       "    </tr>\n",
       "    <tr>\n",
       "      <th>...</th>\n",
       "      <td>...</td>\n",
       "      <td>...</td>\n",
       "      <td>...</td>\n",
       "      <td>...</td>\n",
       "      <td>...</td>\n",
       "      <td>...</td>\n",
       "      <td>...</td>\n",
       "      <td>...</td>\n",
       "    </tr>\n",
       "    <tr>\n",
       "      <th>346</th>\n",
       "      <td>346</td>\n",
       "      <td>4461</td>\n",
       "      <td>KKR</td>\n",
       "      <td>www.kkr.com</td>\n",
       "      <td>45.545353</td>\n",
       "      <td>-122.655247</td>\n",
       "      <td>Buffy Azure</td>\n",
       "      <td>321970</td>\n",
       "    </tr>\n",
       "    <tr>\n",
       "      <th>347</th>\n",
       "      <td>347</td>\n",
       "      <td>4471</td>\n",
       "      <td>Oneok</td>\n",
       "      <td>www.oneok.com</td>\n",
       "      <td>45.513513</td>\n",
       "      <td>-122.681500</td>\n",
       "      <td>Esta Engelhardt</td>\n",
       "      <td>321960</td>\n",
       "    </tr>\n",
       "    <tr>\n",
       "      <th>348</th>\n",
       "      <td>348</td>\n",
       "      <td>4481</td>\n",
       "      <td>Newmont Mining</td>\n",
       "      <td>www.newmont.com</td>\n",
       "      <td>45.494117</td>\n",
       "      <td>-122.669460</td>\n",
       "      <td>Khadijah Riemann</td>\n",
       "      <td>321970</td>\n",
       "    </tr>\n",
       "    <tr>\n",
       "      <th>349</th>\n",
       "      <td>349</td>\n",
       "      <td>4491</td>\n",
       "      <td>PPL</td>\n",
       "      <td>www.pplweb.com</td>\n",
       "      <td>45.491720</td>\n",
       "      <td>-122.671880</td>\n",
       "      <td>Deanne Hertlein</td>\n",
       "      <td>321960</td>\n",
       "    </tr>\n",
       "    <tr>\n",
       "      <th>350</th>\n",
       "      <td>350</td>\n",
       "      <td>4501</td>\n",
       "      <td>SpartanNash</td>\n",
       "      <td>www.spartannash.com</td>\n",
       "      <td>45.555651</td>\n",
       "      <td>-122.657145</td>\n",
       "      <td>Jewell Likes</td>\n",
       "      <td>321970</td>\n",
       "    </tr>\n",
       "  </tbody>\n",
       "</table>\n",
       "<p>351 rows × 8 columns</p>\n",
       "</div>"
      ],
      "text/plain": [
       "     index    id                name                    website        lat  \\\n",
       "0        0  1001             Walmart            www.walmart.com  40.238496   \n",
       "1        1  1011         Exxon Mobil         www.exxonmobil.com  41.169156   \n",
       "2        2  1021               Apple              www.apple.com  42.290495   \n",
       "3        3  1031  Berkshire Hathaway  www.berkshirehathaway.com  40.949021   \n",
       "4        4  1041            McKesson           www.mckesson.com  42.217093   \n",
       "..     ...   ...                 ...                        ...        ...   \n",
       "346    346  4461                 KKR                www.kkr.com  45.545353   \n",
       "347    347  4471               Oneok              www.oneok.com  45.513513   \n",
       "348    348  4481      Newmont Mining            www.newmont.com  45.494117   \n",
       "349    349  4491                 PPL             www.pplweb.com  45.491720   \n",
       "350    350  4501         SpartanNash        www.spartannash.com  45.555651   \n",
       "\n",
       "           long       primary_poc  sales_rep_id  \n",
       "0    -75.103297       Tamara Tuma        321500  \n",
       "1    -73.849374      Sung Shields        321510  \n",
       "2    -76.084009        Jodee Lupo        321520  \n",
       "3    -75.763898    Serafina Banda        321530  \n",
       "4    -75.284998    Angeles Crusoe        321540  \n",
       "..          ...               ...           ...  \n",
       "346 -122.655247       Buffy Azure        321970  \n",
       "347 -122.681500   Esta Engelhardt        321960  \n",
       "348 -122.669460  Khadijah Riemann        321970  \n",
       "349 -122.671880   Deanne Hertlein        321960  \n",
       "350 -122.657145      Jewell Likes        321970  \n",
       "\n",
       "[351 rows x 8 columns]"
      ]
     },
     "execution_count": 5,
     "metadata": {},
     "output_type": "execute_result"
    }
   ],
   "source": [
    "result"
   ]
  },
  {
   "attachments": {},
   "cell_type": "markdown",
   "metadata": {},
   "source": [
    "### Queries and visualization (ft. `matplotlib` & `seaborns`)"
   ]
  },
  {
   "attachments": {},
   "cell_type": "markdown",
   "metadata": {},
   "source": [
    "Using `PRAGMA` for checking the information of the table"
   ]
  },
  {
   "cell_type": "code",
   "execution_count": 4,
   "metadata": {},
   "outputs": [
    {
     "data": {
      "text/html": [
       "<div>\n",
       "<style scoped>\n",
       "    .dataframe tbody tr th:only-of-type {\n",
       "        vertical-align: middle;\n",
       "    }\n",
       "\n",
       "    .dataframe tbody tr th {\n",
       "        vertical-align: top;\n",
       "    }\n",
       "\n",
       "    .dataframe thead th {\n",
       "        text-align: right;\n",
       "    }\n",
       "</style>\n",
       "<table border=\"1\" class=\"dataframe\">\n",
       "  <thead>\n",
       "    <tr style=\"text-align: right;\">\n",
       "      <th></th>\n",
       "      <th>cid</th>\n",
       "      <th>name</th>\n",
       "      <th>type</th>\n",
       "      <th>notnull</th>\n",
       "      <th>dflt_value</th>\n",
       "      <th>pk</th>\n",
       "    </tr>\n",
       "  </thead>\n",
       "  <tbody>\n",
       "    <tr>\n",
       "      <th>0</th>\n",
       "      <td>0</td>\n",
       "      <td>index</td>\n",
       "      <td>INTEGER</td>\n",
       "      <td>0</td>\n",
       "      <td>None</td>\n",
       "      <td>0</td>\n",
       "    </tr>\n",
       "    <tr>\n",
       "      <th>1</th>\n",
       "      <td>1</td>\n",
       "      <td>id</td>\n",
       "      <td>INTEGER</td>\n",
       "      <td>0</td>\n",
       "      <td>None</td>\n",
       "      <td>0</td>\n",
       "    </tr>\n",
       "    <tr>\n",
       "      <th>2</th>\n",
       "      <td>2</td>\n",
       "      <td>name</td>\n",
       "      <td>TEXT</td>\n",
       "      <td>0</td>\n",
       "      <td>None</td>\n",
       "      <td>0</td>\n",
       "    </tr>\n",
       "    <tr>\n",
       "      <th>3</th>\n",
       "      <td>3</td>\n",
       "      <td>website</td>\n",
       "      <td>TEXT</td>\n",
       "      <td>0</td>\n",
       "      <td>None</td>\n",
       "      <td>0</td>\n",
       "    </tr>\n",
       "    <tr>\n",
       "      <th>4</th>\n",
       "      <td>4</td>\n",
       "      <td>lat</td>\n",
       "      <td>REAL</td>\n",
       "      <td>0</td>\n",
       "      <td>None</td>\n",
       "      <td>0</td>\n",
       "    </tr>\n",
       "    <tr>\n",
       "      <th>5</th>\n",
       "      <td>5</td>\n",
       "      <td>long</td>\n",
       "      <td>REAL</td>\n",
       "      <td>0</td>\n",
       "      <td>None</td>\n",
       "      <td>0</td>\n",
       "    </tr>\n",
       "    <tr>\n",
       "      <th>6</th>\n",
       "      <td>6</td>\n",
       "      <td>primary_poc</td>\n",
       "      <td>TEXT</td>\n",
       "      <td>0</td>\n",
       "      <td>None</td>\n",
       "      <td>0</td>\n",
       "    </tr>\n",
       "    <tr>\n",
       "      <th>7</th>\n",
       "      <td>7</td>\n",
       "      <td>sales_rep_id</td>\n",
       "      <td>INTEGER</td>\n",
       "      <td>0</td>\n",
       "      <td>None</td>\n",
       "      <td>0</td>\n",
       "    </tr>\n",
       "  </tbody>\n",
       "</table>\n",
       "</div>"
      ],
      "text/plain": [
       "   cid          name     type  notnull dflt_value  pk\n",
       "0    0         index  INTEGER        0       None   0\n",
       "1    1            id  INTEGER        0       None   0\n",
       "2    2          name     TEXT        0       None   0\n",
       "3    3       website     TEXT        0       None   0\n",
       "4    4           lat     REAL        0       None   0\n",
       "5    5          long     REAL        0       None   0\n",
       "6    6   primary_poc     TEXT        0       None   0\n",
       "7    7  sales_rep_id  INTEGER        0       None   0"
      ]
     },
     "execution_count": 4,
     "metadata": {},
     "output_type": "execute_result"
    }
   ],
   "source": [
    "%%sql\n",
    "-- Datatypes of orders \n",
    "PRAGMA table_info(accounts);"
   ]
  },
  {
   "attachments": {},
   "cell_type": "markdown",
   "metadata": {},
   "source": [
    "I've just forgot that SQLite limits users to alter the tables, to add foreign keys on that so I have to pretend that there are relationships between tables."
   ]
  },
  {
   "attachments": {},
   "cell_type": "markdown",
   "metadata": {},
   "source": [
    "Ok goofy enough I will do something nice"
   ]
  },
  {
   "cell_type": "code",
   "execution_count": 6,
   "metadata": {},
   "outputs": [
    {
     "data": {
      "text/html": [
       "<div>\n",
       "<style scoped>\n",
       "    .dataframe tbody tr th:only-of-type {\n",
       "        vertical-align: middle;\n",
       "    }\n",
       "\n",
       "    .dataframe tbody tr th {\n",
       "        vertical-align: top;\n",
       "    }\n",
       "\n",
       "    .dataframe thead th {\n",
       "        text-align: right;\n",
       "    }\n",
       "</style>\n",
       "<table border=\"1\" class=\"dataframe\">\n",
       "  <thead>\n",
       "    <tr style=\"text-align: right;\">\n",
       "      <th></th>\n",
       "      <th>channel</th>\n",
       "    </tr>\n",
       "  </thead>\n",
       "  <tbody>\n",
       "    <tr>\n",
       "      <th>0</th>\n",
       "      <td>direct</td>\n",
       "    </tr>\n",
       "    <tr>\n",
       "      <th>1</th>\n",
       "      <td>facebook</td>\n",
       "    </tr>\n",
       "    <tr>\n",
       "      <th>2</th>\n",
       "      <td>organic</td>\n",
       "    </tr>\n",
       "    <tr>\n",
       "      <th>3</th>\n",
       "      <td>adwords</td>\n",
       "    </tr>\n",
       "    <tr>\n",
       "      <th>4</th>\n",
       "      <td>twitter</td>\n",
       "    </tr>\n",
       "    <tr>\n",
       "      <th>5</th>\n",
       "      <td>banner</td>\n",
       "    </tr>\n",
       "  </tbody>\n",
       "</table>\n",
       "</div>"
      ],
      "text/plain": [
       "    channel\n",
       "0    direct\n",
       "1  facebook\n",
       "2   organic\n",
       "3   adwords\n",
       "4   twitter\n",
       "5    banner"
      ]
     },
     "execution_count": 6,
     "metadata": {},
     "output_type": "execute_result"
    }
   ],
   "source": [
    "%%sql\n",
    "-- Checking distinct web channel are used \n",
    "SELECT DISTINCT(channel) FROM web_events;"
   ]
  },
  {
   "cell_type": "code",
   "execution_count": 8,
   "metadata": {},
   "outputs": [
    {
     "name": "stdout",
     "output_type": "stream",
     "text": [
      "Returning data to local variable channel_rev\n"
     ]
    }
   ],
   "source": [
    "%%sql channel_rev <<\n",
    "-- Let's do the join things\n",
    "SELECT \n",
    "    DISTINCT(web_events.channel) AS \"Channel\",\n",
    "    SUM(orders.total_amt_usd) AS \"Total revenue (USD)\"\n",
    "FROM web_events \n",
    "    INNER JOIN accounts ON web_events.account_id = accounts.id\n",
    "    INNER JOIN orders ON accounts.id = orders.account_id\n",
    "GROUP BY web_events.channel;"
   ]
  },
  {
   "cell_type": "code",
   "execution_count": 9,
   "metadata": {},
   "outputs": [
    {
     "data": {
      "text/html": [
       "<div>\n",
       "<style scoped>\n",
       "    .dataframe tbody tr th:only-of-type {\n",
       "        vertical-align: middle;\n",
       "    }\n",
       "\n",
       "    .dataframe tbody tr th {\n",
       "        vertical-align: top;\n",
       "    }\n",
       "\n",
       "    .dataframe thead th {\n",
       "        text-align: right;\n",
       "    }\n",
       "</style>\n",
       "<table border=\"1\" class=\"dataframe\">\n",
       "  <thead>\n",
       "    <tr style=\"text-align: right;\">\n",
       "      <th></th>\n",
       "      <th>Channel</th>\n",
       "      <th>Total revenue (USD)</th>\n",
       "    </tr>\n",
       "  </thead>\n",
       "  <tbody>\n",
       "    <tr>\n",
       "      <th>0</th>\n",
       "      <td>adwords</td>\n",
       "      <td>9.777686e+07</td>\n",
       "    </tr>\n",
       "    <tr>\n",
       "      <th>1</th>\n",
       "      <td>banner</td>\n",
       "      <td>4.807840e+07</td>\n",
       "    </tr>\n",
       "    <tr>\n",
       "      <th>2</th>\n",
       "      <td>direct</td>\n",
       "      <td>6.396998e+08</td>\n",
       "    </tr>\n",
       "    <tr>\n",
       "      <th>3</th>\n",
       "      <td>facebook</td>\n",
       "      <td>1.030307e+08</td>\n",
       "    </tr>\n",
       "    <tr>\n",
       "      <th>4</th>\n",
       "      <td>organic</td>\n",
       "      <td>1.020503e+08</td>\n",
       "    </tr>\n",
       "    <tr>\n",
       "      <th>5</th>\n",
       "      <td>twitter</td>\n",
       "      <td>5.066669e+07</td>\n",
       "    </tr>\n",
       "  </tbody>\n",
       "</table>\n",
       "</div>"
      ],
      "text/plain": [
       "    Channel  Total revenue (USD)\n",
       "0   adwords         9.777686e+07\n",
       "1    banner         4.807840e+07\n",
       "2    direct         6.396998e+08\n",
       "3  facebook         1.030307e+08\n",
       "4   organic         1.020503e+08\n",
       "5   twitter         5.066669e+07"
      ]
     },
     "execution_count": 9,
     "metadata": {},
     "output_type": "execute_result"
    }
   ],
   "source": [
    "# Check the channel revenue before plot the dataframe onto matplotlib\n",
    "channel_rev"
   ]
  },
  {
   "cell_type": "code",
   "execution_count": 31,
   "metadata": {},
   "outputs": [
    {
     "data": {
      "image/png": "[encoded data removed]",
      "text/plain": [
       "<Figure size 640x480 with 1 Axes>"
      ]
     },
     "metadata": {},
     "output_type": "display_data"
    }
   ],
   "source": [
    "# matplotib in action\n",
    "sns.barplot(data=channel_rev, x=\"Channel\", y=\"Total revenue (USD)\")\n",
    "plt.title(\"Revenue on each channel\")\n",
    "plt.show()"
   ]
  },
  {
   "cell_type": "code",
   "execution_count": 15,
   "metadata": {},
   "outputs": [
    {
     "data": {
      "text/html": [
       "<div>\n",
       "<style scoped>\n",
       "    .dataframe tbody tr th:only-of-type {\n",
       "        vertical-align: middle;\n",
       "    }\n",
       "\n",
       "    .dataframe tbody tr th {\n",
       "        vertical-align: top;\n",
       "    }\n",
       "\n",
       "    .dataframe thead th {\n",
       "        text-align: right;\n",
       "    }\n",
       "</style>\n",
       "<table border=\"1\" class=\"dataframe\">\n",
       "  <thead>\n",
       "    <tr style=\"text-align: right;\">\n",
       "      <th></th>\n",
       "      <th>name</th>\n",
       "      <th>no_of_orders</th>\n",
       "      <th>total_revenue</th>\n",
       "    </tr>\n",
       "  </thead>\n",
       "  <tbody>\n",
       "    <tr>\n",
       "      <th>0</th>\n",
       "      <td>Midwest</td>\n",
       "      <td>897</td>\n",
       "      <td>3013486.51</td>\n",
       "    </tr>\n",
       "    <tr>\n",
       "      <th>1</th>\n",
       "      <td>Northeast</td>\n",
       "      <td>2357</td>\n",
       "      <td>7744405.36</td>\n",
       "    </tr>\n",
       "    <tr>\n",
       "      <th>2</th>\n",
       "      <td>Southeast</td>\n",
       "      <td>2024</td>\n",
       "      <td>6458497.00</td>\n",
       "    </tr>\n",
       "    <tr>\n",
       "      <th>3</th>\n",
       "      <td>West</td>\n",
       "      <td>1634</td>\n",
       "      <td>5925122.96</td>\n",
       "    </tr>\n",
       "  </tbody>\n",
       "</table>\n",
       "</div>"
      ],
      "text/plain": [
       "        name  no_of_orders  total_revenue\n",
       "0    Midwest           897     3013486.51\n",
       "1  Northeast          2357     7744405.36\n",
       "2  Southeast          2024     6458497.00\n",
       "3       West          1634     5925122.96"
      ]
     },
     "execution_count": 15,
     "metadata": {},
     "output_type": "execute_result"
    }
   ],
   "source": [
    "%%sql \n",
    "SELECT\n",
    "    region.name,\n",
    "    COUNT(*) AS no_of_orders,\n",
    "    ROUND(SUM(orders.total_amt_usd), 2) AS total_revenue\n",
    "FROM orders \n",
    "    JOIN accounts ON orders.account_id = accounts.id \n",
    "    JOIN sales_reps ON accounts.sales_rep_id = sales_reps.id\n",
    "    JOIN region ON sales_reps.region_id = region.id\n",
    "GROUP BY region.name;"
   ]
  },
  {
   "cell_type": "code",
   "execution_count": 21,
   "metadata": {},
   "outputs": [
    {
     "data": {
      "text/html": [
       "<div>\n",
       "<style scoped>\n",
       "    .dataframe tbody tr th:only-of-type {\n",
       "        vertical-align: middle;\n",
       "    }\n",
       "\n",
       "    .dataframe tbody tr th {\n",
       "        vertical-align: top;\n",
       "    }\n",
       "\n",
       "    .dataframe thead th {\n",
       "        text-align: right;\n",
       "    }\n",
       "</style>\n",
       "<table border=\"1\" class=\"dataframe\">\n",
       "  <thead>\n",
       "    <tr style=\"text-align: right;\">\n",
       "      <th></th>\n",
       "      <th>name</th>\n",
       "      <th>id</th>\n",
       "      <th>total_number_of_orders</th>\n",
       "      <th>total_revenue</th>\n",
       "    </tr>\n",
       "  </thead>\n",
       "  <tbody>\n",
       "    <tr>\n",
       "      <th>0</th>\n",
       "      <td>Earlie Schleusner</td>\n",
       "      <td>321800</td>\n",
       "      <td>335</td>\n",
       "      <td>1098137.72</td>\n",
       "    </tr>\n",
       "    <tr>\n",
       "      <th>1</th>\n",
       "      <td>Vernita Plump</td>\n",
       "      <td>321840</td>\n",
       "      <td>299</td>\n",
       "      <td>934212.93</td>\n",
       "    </tr>\n",
       "    <tr>\n",
       "      <th>2</th>\n",
       "      <td>Tia Amato</td>\n",
       "      <td>321640</td>\n",
       "      <td>267</td>\n",
       "      <td>1010690.60</td>\n",
       "    </tr>\n",
       "    <tr>\n",
       "      <th>3</th>\n",
       "      <td>Georgianna Chisholm</td>\n",
       "      <td>321970</td>\n",
       "      <td>256</td>\n",
       "      <td>886244.12</td>\n",
       "    </tr>\n",
       "    <tr>\n",
       "      <th>4</th>\n",
       "      <td>Moon Torian</td>\n",
       "      <td>321810</td>\n",
       "      <td>250</td>\n",
       "      <td>650393.52</td>\n",
       "    </tr>\n",
       "  </tbody>\n",
       "</table>\n",
       "</div>"
      ],
      "text/plain": [
       "                  name      id  total_number_of_orders  total_revenue\n",
       "0    Earlie Schleusner  321800                     335     1098137.72\n",
       "1        Vernita Plump  321840                     299      934212.93\n",
       "2            Tia Amato  321640                     267     1010690.60\n",
       "3  Georgianna Chisholm  321970                     256      886244.12\n",
       "4          Moon Torian  321810                     250      650393.52"
      ]
     },
     "execution_count": 21,
     "metadata": {},
     "output_type": "execute_result"
    }
   ],
   "source": [
    "%%sql \n",
    "SELECT\n",
    "    sales_reps.name,\n",
    "    sales_reps.id,\n",
    "    COUNT(orders.id) AS total_number_of_orders,\n",
    "    SUM(orders.total_amt_usd) AS total_revenue\n",
    "FROM sales_reps\n",
    "    INNER JOIN accounts ON sales_reps.id = accounts.sales_rep_id\n",
    "    INNER JOIN orders ON accounts.id = orders.account_id\n",
    "GROUP BY sales_reps.name\n",
    "ORDER BY total_number_of_orders DESC\n",
    "LIMIT 5;"
   ]
  },
  {
   "attachments": {},
   "cell_type": "markdown",
   "metadata": {},
   "source": [
    "Query ideas: Dealing with the sales representatives' output (number of orders, total revenues)\n",
    "\n",
    "We would divide the divison of salesman to:\n",
    "\n",
    "- More than 200: Top performer\n",
    "- More than 150: Good performer\n",
    "- More than 70: Decent performer\n",
    "- Else: Low performer"
   ]
  },
  {
   "cell_type": "code",
   "execution_count": 26,
   "metadata": {
    "vscode": {
     "languageId": "sql"
    }
   },
   "outputs": [
    {
     "data": {
      "text/html": [
       "<div>\n",
       "<style scoped>\n",
       "    .dataframe tbody tr th:only-of-type {\n",
       "        vertical-align: middle;\n",
       "    }\n",
       "\n",
       "    .dataframe tbody tr th {\n",
       "        vertical-align: top;\n",
       "    }\n",
       "\n",
       "    .dataframe thead th {\n",
       "        text-align: right;\n",
       "    }\n",
       "</style>\n",
       "<table border=\"1\" class=\"dataframe\">\n",
       "  <thead>\n",
       "    <tr style=\"text-align: right;\">\n",
       "      <th></th>\n",
       "      <th>name</th>\n",
       "      <th>total_number_of_order</th>\n",
       "      <th>sales_level</th>\n",
       "      <th>total_revenue_each</th>\n",
       "    </tr>\n",
       "  </thead>\n",
       "  <tbody>\n",
       "    <tr>\n",
       "      <th>0</th>\n",
       "      <td>Earlie Schleusner</td>\n",
       "      <td>335</td>\n",
       "      <td>Top performer</td>\n",
       "      <td>1098137.72</td>\n",
       "    </tr>\n",
       "    <tr>\n",
       "      <th>1</th>\n",
       "      <td>Tia Amato</td>\n",
       "      <td>267</td>\n",
       "      <td>Top performer</td>\n",
       "      <td>1010690.60</td>\n",
       "    </tr>\n",
       "    <tr>\n",
       "      <th>2</th>\n",
       "      <td>Vernita Plump</td>\n",
       "      <td>299</td>\n",
       "      <td>Top performer</td>\n",
       "      <td>934212.93</td>\n",
       "    </tr>\n",
       "    <tr>\n",
       "      <th>3</th>\n",
       "      <td>Georgianna Chisholm</td>\n",
       "      <td>256</td>\n",
       "      <td>Top performer</td>\n",
       "      <td>886244.12</td>\n",
       "    </tr>\n",
       "    <tr>\n",
       "      <th>4</th>\n",
       "      <td>Arica Stoltzfus</td>\n",
       "      <td>186</td>\n",
       "      <td>Good performer</td>\n",
       "      <td>810353.34</td>\n",
       "    </tr>\n",
       "    <tr>\n",
       "      <th>5</th>\n",
       "      <td>Dorotha Seawell</td>\n",
       "      <td>208</td>\n",
       "      <td>Top performer</td>\n",
       "      <td>766935.04</td>\n",
       "    </tr>\n",
       "    <tr>\n",
       "      <th>6</th>\n",
       "      <td>Nelle Meaux</td>\n",
       "      <td>241</td>\n",
       "      <td>Top performer</td>\n",
       "      <td>749076.16</td>\n",
       "    </tr>\n",
       "    <tr>\n",
       "      <th>7</th>\n",
       "      <td>Sibyl Lauria</td>\n",
       "      <td>193</td>\n",
       "      <td>Good performer</td>\n",
       "      <td>722084.27</td>\n",
       "    </tr>\n",
       "    <tr>\n",
       "      <th>8</th>\n",
       "      <td>Maren Musto</td>\n",
       "      <td>224</td>\n",
       "      <td>Top performer</td>\n",
       "      <td>702697.29</td>\n",
       "    </tr>\n",
       "    <tr>\n",
       "      <th>9</th>\n",
       "      <td>Brandie Riva</td>\n",
       "      <td>167</td>\n",
       "      <td>Good performer</td>\n",
       "      <td>675917.64</td>\n",
       "    </tr>\n",
       "  </tbody>\n",
       "</table>\n",
       "</div>"
      ],
      "text/plain": [
       "                  name  total_number_of_order     sales_level  \\\n",
       "0    Earlie Schleusner                    335   Top performer   \n",
       "1            Tia Amato                    267   Top performer   \n",
       "2        Vernita Plump                    299   Top performer   \n",
       "3  Georgianna Chisholm                    256   Top performer   \n",
       "4      Arica Stoltzfus                    186  Good performer   \n",
       "5      Dorotha Seawell                    208   Top performer   \n",
       "6          Nelle Meaux                    241   Top performer   \n",
       "7         Sibyl Lauria                    193  Good performer   \n",
       "8          Maren Musto                    224   Top performer   \n",
       "9         Brandie Riva                    167  Good performer   \n",
       "\n",
       "   total_revenue_each  \n",
       "0          1098137.72  \n",
       "1          1010690.60  \n",
       "2           934212.93  \n",
       "3           886244.12  \n",
       "4           810353.34  \n",
       "5           766935.04  \n",
       "6           749076.16  \n",
       "7           722084.27  \n",
       "8           702697.29  \n",
       "9           675917.64  "
      ]
     },
     "execution_count": 26,
     "metadata": {},
     "output_type": "execute_result"
    }
   ],
   "source": [
    "%%sql\n",
    "SELECT \n",
    "    sales_reps.name,\n",
    "    COUNT(orders.id) AS total_number_of_order,\n",
    "    CASE\n",
    "        WHEN COUNT(orders.id) > 200 THEN 'Top performer'\n",
    "        WHEN COUNT(orders.id) > 150 THEN 'Good performer'\n",
    "        WHEN COUNT(orders.id) > 70 THEN 'Decent performer'\n",
    "        ELSE 'Low performer'\n",
    "    END AS sales_level,\n",
    "    SUM(orders.total_amt_usd) AS total_revenue_each\n",
    "FROM sales_reps \n",
    "    JOIN accounts ON sales_reps.id = accounts.sales_rep_id\n",
    "    JOIN orders ON accounts.id = orders.account_id\n",
    "GROUP BY sales_reps.name \n",
    "ORDER BY total_revenue_each DESC\n",
    "LIMIT 10;"
   ]
  },
  {
   "attachments": {},
   "cell_type": "markdown",
   "metadata": {},
   "source": [
    "Count the number of each salesman's division"
   ]
  },
  {
   "cell_type": "code",
   "execution_count": 27,
   "metadata": {
    "vscode": {
     "languageId": "sql"
    }
   },
   "outputs": [
    {
     "data": {
      "text/html": [
       "<div>\n",
       "<style scoped>\n",
       "    .dataframe tbody tr th:only-of-type {\n",
       "        vertical-align: middle;\n",
       "    }\n",
       "\n",
       "    .dataframe tbody tr th {\n",
       "        vertical-align: top;\n",
       "    }\n",
       "\n",
       "    .dataframe thead th {\n",
       "        text-align: right;\n",
       "    }\n",
       "</style>\n",
       "<table border=\"1\" class=\"dataframe\">\n",
       "  <thead>\n",
       "    <tr style=\"text-align: right;\">\n",
       "      <th></th>\n",
       "      <th>Sales division</th>\n",
       "      <th>Number of salesmen</th>\n",
       "    </tr>\n",
       "  </thead>\n",
       "  <tbody>\n",
       "    <tr>\n",
       "      <th>0</th>\n",
       "      <td>Decent performer</td>\n",
       "      <td>15</td>\n",
       "    </tr>\n",
       "    <tr>\n",
       "      <th>1</th>\n",
       "      <td>Good performer</td>\n",
       "      <td>12</td>\n",
       "    </tr>\n",
       "    <tr>\n",
       "      <th>2</th>\n",
       "      <td>Low performer</td>\n",
       "      <td>13</td>\n",
       "    </tr>\n",
       "    <tr>\n",
       "      <th>3</th>\n",
       "      <td>Top performer</td>\n",
       "      <td>10</td>\n",
       "    </tr>\n",
       "  </tbody>\n",
       "</table>\n",
       "</div>"
      ],
      "text/plain": [
       "     Sales division  Number of salesmen\n",
       "0  Decent performer                  15\n",
       "1    Good performer                  12\n",
       "2     Low performer                  13\n",
       "3     Top performer                  10"
      ]
     },
     "execution_count": 27,
     "metadata": {},
     "output_type": "execute_result"
    }
   ],
   "source": [
    "%%sql\n",
    "WITH salesman_report AS (\n",
    "    SELECT \n",
    "        sales_reps.name,\n",
    "        COUNT(orders.id) AS total_number_of_order,\n",
    "        CASE\n",
    "            WHEN COUNT(orders.id) > 200 THEN 'Top performer'\n",
    "            WHEN COUNT(orders.id) > 150 THEN 'Good performer'\n",
    "            WHEN COUNT(orders.id) > 70 THEN 'Decent performer'\n",
    "            ELSE 'Low performer'\n",
    "        END AS sales_level,\n",
    "        SUM(orders.total_amt_usd) AS total_revenue_each\n",
    "    FROM sales_reps \n",
    "        JOIN accounts ON sales_reps.id = accounts.sales_rep_id\n",
    "        JOIN orders ON accounts.id = orders.account_id\n",
    "    GROUP BY sales_reps.name\n",
    ")\n",
    "\n",
    "SELECT \n",
    "    DISTINCT(sales_level) AS \"Sales division\",\n",
    "    COUNT(sales_level) AS \"Number of salesmen\"\n",
    "FROM salesman_report\n",
    "GROUP BY sales_level;"
   ]
  },
  {
   "attachments": {},
   "cell_type": "markdown",
   "metadata": {},
   "source": [
    "Testing the nested query"
   ]
  },
  {
   "cell_type": "code",
   "execution_count": 32,
   "metadata": {
    "vscode": {
     "languageId": "sql"
    }
   },
   "outputs": [
    {
     "name": "stdout",
     "output_type": "stream",
     "text": [
      "Returning data to local variable division_numbers\n"
     ]
    }
   ],
   "source": [
    "%%sql division_numbers <<\n",
    "SELECT \n",
    "    DISTINCT(sales_level) AS \"Sales division\",\n",
    "    COUNT(sales_level) AS \"Number of salesmen\"\n",
    "FROM (\n",
    "    SELECT \n",
    "        sales_reps.name,\n",
    "        COUNT(orders.id) AS total_number_of_order,\n",
    "        CASE\n",
    "            WHEN COUNT(orders.id) > 200 THEN 'Top performer'\n",
    "            WHEN COUNT(orders.id) > 150 THEN 'Good performer'\n",
    "            WHEN COUNT(orders.id) > 70 THEN 'Decent performer'\n",
    "            ELSE 'Low performer'\n",
    "        END AS sales_level,\n",
    "        SUM(orders.total_amt_usd) AS total_revenue_each\n",
    "    FROM sales_reps \n",
    "        JOIN accounts ON sales_reps.id = accounts.sales_rep_id\n",
    "        JOIN orders ON accounts.id = orders.account_id\n",
    "    GROUP BY sales_reps.name\n",
    ")\n",
    "GROUP BY sales_level;"
   ]
  },
  {
   "cell_type": "code",
   "execution_count": 33,
   "metadata": {
    "vscode": {
     "languageId": "sql"
    }
   },
   "outputs": [
    {
     "data": {
      "text/html": [
       "<div>\n",
       "<style scoped>\n",
       "    .dataframe tbody tr th:only-of-type {\n",
       "        vertical-align: middle;\n",
       "    }\n",
       "\n",
       "    .dataframe tbody tr th {\n",
       "        vertical-align: top;\n",
       "    }\n",
       "\n",
       "    .dataframe thead th {\n",
       "        text-align: right;\n",
       "    }\n",
       "</style>\n",
       "<table border=\"1\" class=\"dataframe\">\n",
       "  <thead>\n",
       "    <tr style=\"text-align: right;\">\n",
       "      <th></th>\n",
       "      <th>Sales division</th>\n",
       "      <th>Number of salesmen</th>\n",
       "    </tr>\n",
       "  </thead>\n",
       "  <tbody>\n",
       "    <tr>\n",
       "      <th>0</th>\n",
       "      <td>Decent performer</td>\n",
       "      <td>15</td>\n",
       "    </tr>\n",
       "    <tr>\n",
       "      <th>1</th>\n",
       "      <td>Good performer</td>\n",
       "      <td>12</td>\n",
       "    </tr>\n",
       "    <tr>\n",
       "      <th>2</th>\n",
       "      <td>Low performer</td>\n",
       "      <td>13</td>\n",
       "    </tr>\n",
       "    <tr>\n",
       "      <th>3</th>\n",
       "      <td>Top performer</td>\n",
       "      <td>10</td>\n",
       "    </tr>\n",
       "  </tbody>\n",
       "</table>\n",
       "</div>"
      ],
      "text/plain": [
       "     Sales division  Number of salesmen\n",
       "0  Decent performer                  15\n",
       "1    Good performer                  12\n",
       "2     Low performer                  13\n",
       "3     Top performer                  10"
      ]
     },
     "execution_count": 33,
     "metadata": {},
     "output_type": "execute_result"
    }
   ],
   "source": [
    "division_numbers"
   ]
  },
  {
   "cell_type": "code",
   "execution_count": 39,
   "metadata": {},
   "outputs": [
    {
     "data": {
      "image/png": "[encoded data removed]",
      "text/plain": [
       "<Figure size 640x480 with 1 Axes>"
      ]
     },
     "metadata": {},
     "output_type": "display_data"
    }
   ],
   "source": [
    "plt.pie(data=division_numbers,x=\"Number of salesmen\", labels=\"Sales division\", autopct='%.0f%%')\n",
    "plt.title(\"Pie chart for the divisions of salesmen\")\n",
    "plt.show()"
   ]
  }
 ],
 "metadata": {
  "kernelspec": {
   "display_name": "Python 3",
   "language": "python",
   "name": "python3"
  },
  "language_info": {
   "codemirror_mode": {
    "name": "ipython",
    "version": 3
   },
   "file_extension": ".py",
   "mimetype": "text/x-python",
   "name": "python",
   "nbconvert_exporter": "python",
   "pygments_lexer": "ipython3",
   "version": "3.10.6 (main, Nov 14 2022, 16:10:14) [GCC 11.3.0]"
  },
  "orig_nbformat": 4,
  "vscode": {
   "interpreter": {
    "hash": "916dbcbb3f70747c44a77c7bcd40155683ae19c65e1c03b4aa3499c5328201f1"
   }
  }
 },
 "nbformat": 4,
 "nbformat_minor": 2
}
